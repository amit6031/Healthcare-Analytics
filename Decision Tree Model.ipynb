{
 "cells": [
  {
   "cell_type": "code",
   "execution_count": 1,
   "metadata": {},
   "outputs": [],
   "source": [
    "import numpy as np\n",
    "import pandas as pd\n",
    "import matplotlib.pyplot as plt\n",
    "import seaborn as sns\n",
    "from datetime import datetime, timedelta"
   ]
  },
  {
   "cell_type": "markdown",
   "metadata": {},
   "source": [
    "# Importing Dataset"
   ]
  },
  {
   "cell_type": "code",
   "execution_count": 2,
   "metadata": {},
   "outputs": [],
   "source": [
    "train = pd.read_csv(\"train.csv\")\n",
    "submission = pd.read_csv(\"sample_submmission.csv\")\n",
    "test = pd.read_csv(\"test.csv\")\n",
    "\n",
    "patient_info = pd.read_csv(\"Patient_Profile.csv\")\n",
    "camp_info = pd.read_csv(\"Health_Camp_Detail.csv\")\n",
    "first = pd.read_csv(\"First_Health_Camp_Attended.csv\")\n",
    "second = pd.read_csv(\"Second_Health_Camp_Attended.csv\")\n",
    "third = pd.read_csv(\"Third_Health_Camp_Attended.csv\")"
   ]
  },
  {
   "cell_type": "markdown",
   "metadata": {},
   "source": [
    "# Preparing train and test data"
   ]
  },
  {
   "cell_type": "code",
   "execution_count": 3,
   "metadata": {},
   "outputs": [],
   "source": [
    "first.drop(['Unnamed: 4', 'Donation'], axis=1, inplace=True)\n",
    "second.rename(columns = {'Health Score':'Health_Score'}, inplace = True)\n",
    "third['Health_Score'] = third['Number_of_stall_visited']/7.0\n",
    "third.drop(['Number_of_stall_visited', 'Last_Stall_Visited_Number'], axis=1, inplace=True)\n",
    "\n",
    "combined_attended_camps = pd.concat([first, second, third], sort=False, ignore_index=True)\n",
    "\n",
    "#-------------------------------------------\n",
    "\n",
    "train_merged_data = pd.merge(train, patient_info, on='Patient_ID', how='left')\n",
    "train_merged_data_2 = pd.merge(train_merged_data, camp_info, on='Health_Camp_ID', how='left')\n",
    "\n",
    "test_merged_data = pd.merge(test, patient_info, on='Patient_ID', how='left')\n",
    "test_final_merged_data = pd.merge(test_merged_data, camp_info, on='Health_Camp_ID', how='left')\n",
    "\n",
    "#---------------------------------------------\n",
    "\n",
    "train_final_merged_data = pd.merge(train_merged_data_2, combined_attended_camps, \n",
    "                                   on=['Patient_ID', 'Health_Camp_ID'], how='left')\n",
    "train_final_merged_data.Health_Score.replace(np.nan, 0, inplace=True)\n",
    "\n",
    "#-----------------------------------------------\n",
    "\n",
    "#train_final_merged_data.shape, test_final_merged_data.shape\n",
    "\n",
    "labels = train_final_merged_data.iloc[:, -1]\n",
    "X_train = train_final_merged_data.iloc[:, :-1]\n",
    "data = pd.concat([X_train, test_final_merged_data], sort=False, ignore_index=True)"
   ]
  },
  {
   "cell_type": "markdown",
   "metadata": {},
   "source": [
    "**Modifying labels for classification**"
   ]
  },
  {
   "cell_type": "code",
   "execution_count": 4,
   "metadata": {},
   "outputs": [
    {
     "name": "stderr",
     "output_type": "stream",
     "text": [
      "c:\\users\\amit sahu\\appdata\\local\\programs\\python\\python37\\lib\\site-packages\\ipykernel_launcher.py:5: SettingWithCopyWarning: \n",
      "A value is trying to be set on a copy of a slice from a DataFrame\n",
      "\n",
      "See the caveats in the documentation: http://pandas.pydata.org/pandas-docs/stable/user_guide/indexing.html#returning-a-view-versus-a-copy\n",
      "  \"\"\"\n"
     ]
    }
   ],
   "source": [
    "m = len(labels)\n",
    "\n",
    "for i in range(m-1):\n",
    "    if labels[i] > 0.0:\n",
    "        labels[i] = 1.0"
   ]
  },
  {
   "cell_type": "code",
   "execution_count": 5,
   "metadata": {},
   "outputs": [],
   "source": [
    "data.Income.replace('None', 7, inplace=True)   # We are going to treat this column as categorical\n",
    "\n",
    "#------------------------------------------------------\n",
    "\n",
    "# Over 80% values are missing or same, that is why dropping them\n",
    "data.drop(['Education_Score', 'Employer_Category', 'Category3'], axis=1, inplace=True) \n",
    "\n",
    "#------------------------------------------------------\n",
    "\n",
    "data.City_Type.replace(np.nan, 'J', inplace=True) # We are going to treat this column as categorical\n",
    "\n",
    "#------------------------------------------------------\n",
    "\n",
    "data.Age.replace('None', 0, inplace=True)\n",
    "data.Age = data.Age.astype(np.int64)\n",
    "\n",
    "age = data.Age.copy()\n",
    "\n",
    "refined_ages = []\n",
    "l = len(age)\n",
    "\n",
    "for i in range(l-1):\n",
    "    if age[i] > 0:\n",
    "        refined_ages.append(age[i])\n",
    "        \n",
    "refined_ages = pd.Series(refined_ages)\n",
    "median = refined_ages.median()\n",
    "#refined_ages.hist(bins=10)\n",
    "\n",
    "data.Age.replace(0, median, inplace=True)\n",
    "\n",
    "#-----------------------------------------------------------\n",
    "\n",
    "data['Registration_Date'] = pd.to_datetime(data['Registration_Date'])\n",
    "data['Camp_End_Date'] = pd.to_datetime(data['Camp_End_Date'])\n",
    "data['Camp_Start_Date'] = pd.to_datetime(data['Camp_Start_Date'])\n",
    "data['First_Interaction'] = pd.to_datetime(data['First_Interaction'])\n",
    "\n",
    "data['decision_duration'] = (data['Registration_Date'] - data['First_Interaction']).dt.days\n",
    "data['camp_duration'] = (data['Camp_End_Date'] - data['Camp_Start_Date']).dt.days\n",
    "\n",
    "data.decision_duration.fillna(data.decision_duration.median(), inplace=True)\n",
    "\n",
    "data.drop(['Registration_Date', 'Camp_End_Date', 'Camp_Start_Date', 'First_Interaction'], axis=1, inplace=True)\n",
    "\n",
    "data.decision_duration = data.decision_duration.astype(np.float64)\n",
    "data.camp_duration = data.camp_duration.astype(np.float64)"
   ]
  },
  {
   "cell_type": "markdown",
   "metadata": {},
   "source": [
    "# Data Preprocessing"
   ]
  },
  {
   "cell_type": "markdown",
   "metadata": {},
   "source": [
    "**Applying categorical encoding**"
   ]
  },
  {
   "cell_type": "code",
   "execution_count": 6,
   "metadata": {},
   "outputs": [],
   "source": [
    "data_transformed = pd.get_dummies(data, columns=['Var3', 'Var4', 'Income', 'City_Type', 'Category1', 'Category2'])"
   ]
  },
  {
   "cell_type": "markdown",
   "metadata": {},
   "source": [
    "**Splitting the data back**"
   ]
  },
  {
   "cell_type": "code",
   "execution_count": 7,
   "metadata": {},
   "outputs": [],
   "source": [
    "final_train = data_transformed[:train_final_merged_data.shape[0]]\n",
    "final_test = data_transformed[train_final_merged_data.shape[0]:]"
   ]
  },
  {
   "cell_type": "code",
   "execution_count": 8,
   "metadata": {},
   "outputs": [],
   "source": [
    "from sklearn.model_selection import train_test_split\n",
    "\n",
    "X_training, X_cv, y_training, y_cv = train_test_split(final_train, labels, test_size=0.2, random_state=21, shuffle=False)"
   ]
  },
  {
   "cell_type": "code",
   "execution_count": 9,
   "metadata": {},
   "outputs": [
    {
     "data": {
      "text/plain": [
       "((60222, 50), (15056, 50))"
      ]
     },
     "execution_count": 9,
     "metadata": {},
     "output_type": "execute_result"
    }
   ],
   "source": [
    "X_training.shape, X_cv.shape"
   ]
  },
  {
   "cell_type": "code",
   "execution_count": 10,
   "metadata": {},
   "outputs": [],
   "source": [
    "X_training_identifiers = X_training.iloc[:, [0,1]]\n",
    "X_cv_identifiers = X_cv.iloc[:, [0,1]]\n",
    "X_training = X_training.iloc[:, 2:]\n",
    "X_cv = X_cv.iloc[:, 2:]\n",
    "\n",
    "final_test_identifiers = final_test.iloc[:, [0,1]]\n",
    "final_test = final_test.iloc[:, 2:]"
   ]
  },
  {
   "cell_type": "markdown",
   "metadata": {},
   "source": [
    "**Feature Scaling**"
   ]
  },
  {
   "cell_type": "code",
   "execution_count": 11,
   "metadata": {},
   "outputs": [],
   "source": [
    "from sklearn.preprocessing import StandardScaler\n",
    "sc = StandardScaler()\n",
    "\n",
    "scaled_train_columns = sc.fit_transform(X_training.iloc[:, [0, 1, 2, 7, 8, 9]].values)\n",
    "scaled_cv_columns = sc.transform(X_cv.iloc[:, [0, 1, 2, 7, 8, 9]].values)\n",
    "scaled_test_columns = sc.transform(final_test.iloc[:, [0, 1, 2, 7, 8, 9]].values)\n",
    "\n",
    "X_training.loc[:, ['Var1', 'Var2', 'Var5', 'Age', 'decision_duration', 'camp_duration']] = scaled_train_columns\n",
    "X_cv.loc[:, ['Var1', 'Var2', 'Var5', 'Age', 'decision_duration', 'camp_duration']] = scaled_cv_columns\n",
    "final_test.loc[:, ['Var1', 'Var2', 'Var5', 'Age', 'decision_duration', 'camp_duration']] =scaled_test_columns\n"
   ]
  },
  {
   "cell_type": "markdown",
   "metadata": {},
   "source": [
    "# Training the data and getting results for cross-validation set"
   ]
  },
  {
   "cell_type": "code",
   "execution_count": 12,
   "metadata": {},
   "outputs": [
    {
     "data": {
      "text/plain": [
       "((60222, 48), (15056, 48), (35249, 48))"
      ]
     },
     "execution_count": 12,
     "metadata": {},
     "output_type": "execute_result"
    }
   ],
   "source": [
    "X_training.shape, X_cv.shape, final_test.shape"
   ]
  },
  {
   "cell_type": "code",
   "execution_count": 17,
   "metadata": {},
   "outputs": [],
   "source": [
    "from sklearn.model_selection import GridSearchCV, RandomizedSearchCV\n",
    "from sklearn.metrics import roc_auc_score\n",
    "from sklearn.tree import DecisionTreeClassifier\n",
    "dt_clf = DecisionTreeClassifier()\n",
    "\n",
    "param_grid = [{'max_depth': [ 4, 8, 12, 16, 20],\n",
    "               'min_samples_split': [10, 8, 6, 4, 2],\n",
    "             }]\n",
    "\n",
    "grid_search = GridSearchCV(dt_clf, param_grid, cv=5, scoring='roc_auc')\n",
    "grid_search.fit(X_training, y_training)\n",
    "\n",
    "final_model = grid_search.best_estimator_"
   ]
  },
  {
   "cell_type": "code",
   "execution_count": 18,
   "metadata": {},
   "outputs": [
    {
     "name": "stdout",
     "output_type": "stream",
     "text": [
      "0.7307875251462969\n",
      "0.7181335636936669\n"
     ]
    }
   ],
   "source": [
    "y_train_pred = final_model.predict(X_training)\n",
    "train_roc_auc_score = roc_auc_score(y_training, y_train_pred)\n",
    "print(train_roc_auc_score)\n",
    "\n",
    "y_cv_pred = final_model.predict(X_cv)\n",
    "cv_roc_auc_score = roc_auc_score(y_cv, y_cv_pred)\n",
    "print(cv_roc_auc_score)"
   ]
  },
  {
   "cell_type": "markdown",
   "metadata": {},
   "source": [
    "# Testing the model on Test Dataset"
   ]
  },
  {
   "cell_type": "code",
   "execution_count": 19,
   "metadata": {},
   "outputs": [],
   "source": [
    "predictions_test = final_model.predict(final_test)\n",
    "predictions_test = pd.Series(predictions_test)\n",
    "\n",
    "frame = {'Patient_ID': test.Patient_ID, 'Health_Camp_ID':test.Health_Camp_ID, \n",
    "         'Outcome': predictions_test}\n",
    "submission = pd.DataFrame(frame)\n",
    "submission.to_csv('Decision_Tree_submission.csv', index=False)"
   ]
  },
  {
   "cell_type": "code",
   "execution_count": null,
   "metadata": {},
   "outputs": [],
   "source": []
  }
 ],
 "metadata": {
  "kernelspec": {
   "display_name": "Python 3",
   "language": "python",
   "name": "python3"
  },
  "language_info": {
   "codemirror_mode": {
    "name": "ipython",
    "version": 3
   },
   "file_extension": ".py",
   "mimetype": "text/x-python",
   "name": "python",
   "nbconvert_exporter": "python",
   "pygments_lexer": "ipython3",
   "version": "3.7.4"
  }
 },
 "nbformat": 4,
 "nbformat_minor": 2
}
